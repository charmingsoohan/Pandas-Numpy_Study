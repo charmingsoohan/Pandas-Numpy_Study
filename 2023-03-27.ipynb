{
 "cells": [
  {
   "cell_type": "markdown",
   "id": "42d8a79f-3546-46c1-ac96-33c491fd384b",
   "metadata": {},
   "source": [
    "#### 2023-03-27"
   ]
  },
  {
   "cell_type": "markdown",
   "id": "178c78d0-1523-4b2b-b4ab-2fb19747051e",
   "metadata": {},
   "source": [
    "##### 1교시"
   ]
  },
  {
   "cell_type": "markdown",
   "id": "9afbd557-3f2f-4e73-9a0b-e3a4469e5588",
   "metadata": {},
   "source": [
    "strftime() 메소드로 현재 날짜/시간을 아래 형식의 스트링으로 변환하려면?\n",
    "\n",
    "2023/03/24/17:46:01 12주차"
   ]
  },
  {
   "cell_type": "code",
   "execution_count": 11,
   "id": "7c2ec447-3da3-4030-8002-ebc00c3193e8",
   "metadata": {},
   "outputs": [
    {
     "data": {
      "text/plain": [
       "'2023/03/27 09:20:50 13주차'"
      ]
     },
     "execution_count": 11,
     "metadata": {},
     "output_type": "execute_result"
    }
   ],
   "source": [
    "import datetime\n",
    "datetime.datetime.now().strftime(\"%Y/%m/%d %H:%M:%S %W주차\") "
   ]
  },
  {
   "cell_type": "code",
   "execution_count": 3,
   "id": "eb373e78-4364-442e-bb4f-a0bdc7340c38",
   "metadata": {},
   "outputs": [],
   "source": [
    "#Q2.아래 데이터에서 hot으로 시작하는 음료만 추출하시오.\n",
    "\n",
    "data='''\n",
    "ice americano\n",
    "hot americano\n",
    "ice tea\n",
    "hot tea\n",
    "tea hot\n",
    "ice milk\n",
    "hot milk\n",
    "milk hot\n",
    "''' "
   ]
  },
  {
   "cell_type": "code",
   "execution_count": 4,
   "id": "848c3130-abb2-48f2-b0cf-1c6957bbc44f",
   "metadata": {},
   "outputs": [
    {
     "data": {
      "text/plain": [
       "['hot americano', 'hot tea', 'hot milk']"
      ]
     },
     "execution_count": 4,
     "metadata": {},
     "output_type": "execute_result"
    }
   ],
   "source": [
    "import re\n",
    "p=re.compile(\"^hot.*\",re.MULTILINE)\n",
    "p.findall(data)"
   ]
  },
  {
   "cell_type": "code",
   "execution_count": 12,
   "id": "530c5138-4810-4819-8f5f-fe36a5dad530",
   "metadata": {},
   "outputs": [],
   "source": [
    "data = [[\"영자\", \"옥순\", \"광수\", \"순자\"],\n",
    "            [80, 87, 85, 90],\n",
    "            [\"여자\",\"여자\",\"남자\",\"여자\"]] \n",
    "#에서 zip()를 사용하여 여자의 이름과 점수가 나오도록 출력하시오."
   ]
  },
  {
   "cell_type": "code",
   "execution_count": 14,
   "id": "ca292766-08cf-4630-a08b-86ad36767da4",
   "metadata": {},
   "outputs": [
    {
     "name": "stdout",
     "output_type": "stream",
     "text": [
      "영자 80\n",
      "옥순 87\n",
      "순자 90\n"
     ]
    }
   ],
   "source": [
    "for i,j,k in zip(*data):\n",
    "    if k == \"여자\":\n",
    "        print(i, j) "
   ]
  },
  {
   "cell_type": "code",
   "execution_count": 18,
   "id": "c5e9e390-ba08-47f3-84a4-3354b13be618",
   "metadata": {},
   "outputs": [],
   "source": [
    "data = {\"철수\": 98,\"영희\": 80,\"순이\": 100,\"돌이\": 70,} "
   ]
  },
  {
   "cell_type": "code",
   "execution_count": 20,
   "id": "afb73aa5-21ce-4635-8a4f-8b09cb95d59d",
   "metadata": {},
   "outputs": [
    {
     "name": "stdout",
     "output_type": "stream",
     "text": [
      "철수 98\n",
      "영희 80\n",
      "순이 100\n",
      "돌이 70\n"
     ]
    }
   ],
   "source": [
    "for i,j in data.items():\n",
    "    print(i,j)"
   ]
  },
  {
   "cell_type": "code",
   "execution_count": 21,
   "id": "0bd5c679-aba1-41dc-9efb-1f626df3a091",
   "metadata": {},
   "outputs": [
    {
     "data": {
      "text/plain": [
       "87.0"
      ]
     },
     "execution_count": 21,
     "metadata": {},
     "output_type": "execute_result"
    }
   ],
   "source": [
    "sum(data.values())/len(data.values())"
   ]
  },
  {
   "cell_type": "markdown",
   "id": "443763bc-72a6-4703-b2db-a84053ed6ad4",
   "metadata": {},
   "source": [
    "import random\n",
    "x = random.randint(1,10)\n",
    "if x % 2 == 0:\n",
    "    print(\"짝수\")\n",
    "else:\n",
    "    print(\"홀수\") "
   ]
  },
  {
   "cell_type": "code",
   "execution_count": 66,
   "id": "1d6f90fa-1a5d-4d42-958f-703cec59bbd4",
   "metadata": {},
   "outputs": [
    {
     "name": "stdout",
     "output_type": "stream",
     "text": [
      "홀수\n"
     ]
    }
   ],
   "source": [
    "x = random.randint(1,10)\n",
    "print(\"짝수\") if x % 2 == 0 else print(\"홀수\") "
   ]
  },
  {
   "cell_type": "code",
   "execution_count": 67,
   "id": "2967147a-e1fb-4408-9871-c64971a7fc98",
   "metadata": {},
   "outputs": [],
   "source": [
    "#슬라이싱을 이용해 다음 문자열에서 python을 출력해주세요\n",
    "a = 'n$o$h$t_y*P' "
   ]
  },
  {
   "cell_type": "code",
   "execution_count": 68,
   "id": "86b8cbb3-6ce5-44d8-b5c2-ee6877117773",
   "metadata": {},
   "outputs": [
    {
     "data": {
      "text/plain": [
       "'Python'"
      ]
     },
     "execution_count": 68,
     "metadata": {},
     "output_type": "execute_result"
    }
   ],
   "source": [
    "a[::-2]"
   ]
  },
  {
   "cell_type": "code",
   "execution_count": 69,
   "id": "2a6284e0-6b4f-4814-9438-ce24749ff263",
   "metadata": {},
   "outputs": [],
   "source": [
    "#immutable한 데이터 타입은?\n",
    "# str, tuple"
   ]
  },
  {
   "cell_type": "code",
   "execution_count": 70,
   "id": "581d3b08-4e4b-4049-af7a-7a91cfa1a753",
   "metadata": {},
   "outputs": [],
   "source": [
    "#덕 타이핑이란?\n",
    "#객체 자료형보다는 객체가 할 수 있는 연산이나 행동에 관심을 두는 것 "
   ]
  },
  {
   "cell_type": "code",
   "execution_count": 71,
   "id": "95398f55-fd04-4913-ac3b-ac5b8bb1fc96",
   "metadata": {},
   "outputs": [],
   "source": [
    "#함수와 메서드의 차이는?\n",
    "#함수:function(a)\n",
    "#메서드:a.method()"
   ]
  },
  {
   "cell_type": "markdown",
   "id": "794f2368-d188-4c00-a1d8-e92b3629acfb",
   "metadata": {},
   "source": [
    "##### 2교시"
   ]
  },
  {
   "cell_type": "code",
   "execution_count": 72,
   "id": "66397625-1c1b-4b56-951d-25c7af820550",
   "metadata": {},
   "outputs": [
    {
     "data": {
      "text/plain": [
       "{'apple': '사과'}"
      ]
     },
     "execution_count": 72,
     "metadata": {},
     "output_type": "execute_result"
    }
   ],
   "source": [
    "di={\"apple\":\"사과\"}\n",
    "di"
   ]
  },
  {
   "cell_type": "code",
   "execution_count": 73,
   "id": "376d1bfe-bac1-4ebd-b1fb-628cba81fc02",
   "metadata": {},
   "outputs": [],
   "source": [
    "#update를 써서 banana 바나나를 2가지 방법을 사용하여 추가합시다."
   ]
  },
  {
   "cell_type": "code",
   "execution_count": 78,
   "id": "9e139cbd-701f-4158-905a-413dbf99d53c",
   "metadata": {},
   "outputs": [],
   "source": [
    "di.update({\"banana\":\"바나나\"})\n",
    "di[\"banana\"]=\"바나나\""
   ]
  },
  {
   "cell_type": "code",
   "execution_count": 79,
   "id": "d40d7786-bd90-4edc-8107-6bf480429e51",
   "metadata": {},
   "outputs": [
    {
     "data": {
      "text/plain": [
       "{'apple': '사과', 'banana': '바나나'}"
      ]
     },
     "execution_count": 79,
     "metadata": {},
     "output_type": "execute_result"
    }
   ],
   "source": [
    "di"
   ]
  },
  {
   "cell_type": "code",
   "execution_count": 80,
   "id": "c9833d29-edad-457b-92f5-609fea9cbd43",
   "metadata": {},
   "outputs": [],
   "source": [
    "di.update({\"cherry\":\"체리\"})"
   ]
  },
  {
   "cell_type": "code",
   "execution_count": 81,
   "id": "a804aae9-0505-4466-9c41-b5913cf7b54a",
   "metadata": {},
   "outputs": [
    {
     "data": {
      "text/plain": [
       "{'apple': '사과', 'banana': '바나나', 'cherry': '체리'}"
      ]
     },
     "execution_count": 81,
     "metadata": {},
     "output_type": "execute_result"
    }
   ],
   "source": [
    "di"
   ]
  },
  {
   "cell_type": "code",
   "execution_count": 82,
   "id": "877e1be7-f830-4341-bc35-eb95a9325dc6",
   "metadata": {},
   "outputs": [
    {
     "data": {
      "text/plain": [
       "{'사과': 'apple', '바나나': 'banana', '체리': 'cherry'}"
      ]
     },
     "execution_count": 82,
     "metadata": {},
     "output_type": "execute_result"
    }
   ],
   "source": [
    "#key와 value를 바꾸어서 di1을 만들어 봅시다.\n",
    "di1=dict()\n",
    "for i,j in di.items():\n",
    "    di1[j]=i\n",
    "di1"
   ]
  },
  {
   "cell_type": "code",
   "execution_count": 83,
   "id": "ca3c1a73-52b5-4c12-8094-cc7100d21cc2",
   "metadata": {},
   "outputs": [],
   "source": [
    "words=['apple','bat','bar','atom','book']"
   ]
  },
  {
   "cell_type": "code",
   "execution_count": 84,
   "id": "d3cc7092-9040-425b-b2b2-5dfd45224ebd",
   "metadata": {},
   "outputs": [],
   "source": [
    "by_letter=dict()\n",
    "for word in words:\n",
    "    letter=word[0]\n",
    "    if letter not in by_letter:\n",
    "        by_letter[letter]=[word]\n",
    "    else:\n",
    "        by_letter[letter].append(word)"
   ]
  },
  {
   "cell_type": "code",
   "execution_count": 85,
   "id": "22689ad3-6f66-406b-bf4d-eb305e5e75d9",
   "metadata": {},
   "outputs": [
    {
     "data": {
      "text/plain": [
       "{'a': ['apple', 'atom'], 'b': ['bat', 'bar', 'book']}"
      ]
     },
     "execution_count": 85,
     "metadata": {},
     "output_type": "execute_result"
    }
   ],
   "source": [
    "by_letter"
   ]
  },
  {
   "cell_type": "markdown",
   "id": "e247ec47-36d4-4629-b6ee-e2893583f239",
   "metadata": {},
   "source": [
    "a={1,2,3}\n",
    "b={3,4,5}\n",
    "#합집합\n",
    "a.union(b)\n",
    "a|b\n",
    "#교집합\n",
    "a.intersection(b)\n",
    "a & b\n",
    "#차집합\n",
    "a.difference(b)\n",
    "a - b\n",
    "#대칭차집합\n",
    "a.symmetric_difference(b)\n",
    "a ^ b "
   ]
  },
  {
   "cell_type": "markdown",
   "id": "891fba00-e581-4cf1-a44b-6093df28a0f6",
   "metadata": {},
   "source": [
    "##### 3교시"
   ]
  },
  {
   "cell_type": "code",
   "execution_count": 91,
   "id": "3918e618-155f-4a07-840e-04a5da278088",
   "metadata": {},
   "outputs": [],
   "source": [
    "#하나의 리스트로 바꾸어 봅시다.\n",
    "all_data = [['John', 'Emily', 'Michael', 'Mary', 'Steven'],\n",
    "            ['Maria', 'Juan', 'Javier', 'Natalia', 'Pilar']] "
   ]
  },
  {
   "cell_type": "code",
   "execution_count": 93,
   "id": "3a19caa5-93d8-451f-9352-3be07d18f88c",
   "metadata": {},
   "outputs": [
    {
     "name": "stdout",
     "output_type": "stream",
     "text": [
      "John\n",
      "Emily\n",
      "Michael\n",
      "Mary\n",
      "Steven\n",
      "Maria\n",
      "Juan\n",
      "Javier\n",
      "Natalia\n",
      "Pilar\n"
     ]
    },
    {
     "data": {
      "text/plain": [
       "['John',\n",
       " 'Emily',\n",
       " 'Michael',\n",
       " 'Mary',\n",
       " 'Steven',\n",
       " 'Maria',\n",
       " 'Juan',\n",
       " 'Javier',\n",
       " 'Natalia',\n",
       " 'Pilar']"
      ]
     },
     "execution_count": 93,
     "metadata": {},
     "output_type": "execute_result"
    }
   ],
   "source": [
    "data=list()\n",
    "for i in all_data:\n",
    "    for j in i:\n",
    "        print(j)\n",
    "        data.append(j)\n",
    "data\n",
    "[j for i in all_data  for j in i]"
   ]
  },
  {
   "cell_type": "code",
   "execution_count": 97,
   "id": "f11c19db-1c9b-4d92-b187-7e78e67535e3",
   "metadata": {},
   "outputs": [
    {
     "data": {
      "text/plain": [
       "['JOHN',\n",
       " 'EMILY',\n",
       " 'MICHAEL',\n",
       " 'MARY',\n",
       " 'STEVEN',\n",
       " 'MARIA',\n",
       " 'JUAN',\n",
       " 'JAVIER',\n",
       " 'NATALIA',\n",
       " 'PILAR']"
      ]
     },
     "execution_count": 97,
     "metadata": {},
     "output_type": "execute_result"
    }
   ],
   "source": [
    "data=list()\n",
    "for names in all_data:\n",
    "    for name in names:\n",
    "        data.append(name)\n",
    "data\n",
    "# 리스트 컴프리헨선으로 만들어 주세요.\n",
    "[name for names in all_data  for name in names]\n",
    "# 이름의 문자개수를 리스트 컴프리헨선으로 나타내면?\n",
    "[len(name) for names in all_data  for name in names]\n",
    "# 이름의 문자개수가 6개 이상인 이름만 모으면?\n",
    "[name for names in all_data for name in names if len(name)>=6]\n",
    "# 이름을 모두 대문자로 리스트 컴프리헨선으로 바꿔 주세요.\n",
    "[name.upper() for names in all_data for name in names]"
   ]
  },
  {
   "cell_type": "code",
   "execution_count": 98,
   "id": "21db2f77-2248-4489-b5a2-e2177f3bc365",
   "metadata": {},
   "outputs": [
    {
     "data": {
      "text/plain": [
       "{0: 'apple', 1: 'banana', 2: 'cherry'}"
      ]
     },
     "execution_count": 98,
     "metadata": {},
     "output_type": "execute_result"
    }
   ],
   "source": [
    "li=['apple','banana','cherry']\n",
    "di=dict()\n",
    "for i,j in enumerate(li):\n",
    "    di[i]=j\n",
    "di"
   ]
  },
  {
   "cell_type": "code",
   "execution_count": 100,
   "id": "151f7539-ec14-4289-b9b2-ca0516f5f670",
   "metadata": {},
   "outputs": [
    {
     "data": {
      "text/plain": [
       "{0: 'apple', 1: 'banana', 2: 'cherry'}"
      ]
     },
     "execution_count": 100,
     "metadata": {},
     "output_type": "execute_result"
    }
   ],
   "source": [
    "li=['apple','banana','cherry']\n",
    "{i:j for i,j in enumerate(li)}"
   ]
  },
  {
   "cell_type": "code",
   "execution_count": 101,
   "id": "25c862cc-b7cd-4917-a0e7-c0da7b357b3a",
   "metadata": {},
   "outputs": [
    {
     "data": {
      "text/plain": [
       "{4, 5, 6, 7}"
      ]
     },
     "execution_count": 101,
     "metadata": {},
     "output_type": "execute_result"
    }
   ],
   "source": [
    "unique_length={len(name) for names in all_data for name in names}\n",
    "unique_length"
   ]
  },
  {
   "cell_type": "code",
   "execution_count": 102,
   "id": "6345e6bc-98ca-4e24-9511-20d4afffce0a",
   "metadata": {},
   "outputs": [],
   "source": [
    "li=[1,2,3,4]\n",
    "def twice(x):\n",
    "    return x*2"
   ]
  },
  {
   "cell_type": "code",
   "execution_count": 103,
   "id": "132bcf4e-65e1-49b6-949d-c0f1ae0b0533",
   "metadata": {},
   "outputs": [
    {
     "data": {
      "text/plain": [
       "6"
      ]
     },
     "execution_count": 103,
     "metadata": {},
     "output_type": "execute_result"
    }
   ],
   "source": [
    "twice(3)"
   ]
  },
  {
   "cell_type": "code",
   "execution_count": 104,
   "id": "dad4445b-5c63-4161-820a-0822496d6ed0",
   "metadata": {},
   "outputs": [
    {
     "data": {
      "text/plain": [
       "[2, 4, 6, 8]"
      ]
     },
     "execution_count": 104,
     "metadata": {},
     "output_type": "execute_result"
    }
   ],
   "source": [
    "list(map(twice,li))"
   ]
  },
  {
   "cell_type": "code",
   "execution_count": 115,
   "id": "82ae66b5-0d3f-4c35-b7a3-1ee14d1d03f6",
   "metadata": {},
   "outputs": [],
   "source": [
    "states = ['   Alabama ', 'Georgia!', 'Georgia', 'georgia', 'FlOrIda',\n",
    "       .....:           'south   carolina##', 'West virginia?'] "
   ]
  },
  {
   "cell_type": "code",
   "execution_count": 120,
   "id": "e32ed5c2-ea6b-405d-8c75-c756887e11e5",
   "metadata": {},
   "outputs": [],
   "source": [
    "import re\n",
    "def clean_strings(strings):\n",
    "    result=[]\n",
    "    for value in strings:\n",
    "        value = value.strip()\n",
    "        value = re.sub('[!#?]','',value)\n",
    "        value = value.title()\n",
    "        result.append(value)\n",
    "    return result"
   ]
  },
  {
   "cell_type": "code",
   "execution_count": 121,
   "id": "0b65647a-a90f-47bc-b419-c75607df96ba",
   "metadata": {},
   "outputs": [
    {
     "data": {
      "text/plain": [
       "['Alabama',\n",
       " 'Georgia',\n",
       " 'Georgia',\n",
       " 'Georgia',\n",
       " 'Florida',\n",
       " 'South   Carolina',\n",
       " 'West Virginia']"
      ]
     },
     "execution_count": 121,
     "metadata": {},
     "output_type": "execute_result"
    }
   ],
   "source": [
    "clean_strings(states)"
   ]
  },
  {
   "cell_type": "code",
   "execution_count": 122,
   "id": "3db5a0cc-07f2-4c6c-98b2-7d391ff39d4e",
   "metadata": {},
   "outputs": [],
   "source": [
    "def remove_punctuation(value):\n",
    "    return re.sub('[!#?]','',value)\n",
    "clean_ops=[str.strip,remove_punctuation,str.title]"
   ]
  },
  {
   "cell_type": "code",
   "execution_count": 123,
   "id": "e5ff4b97-ae8f-4236-bc22-206cc7444944",
   "metadata": {},
   "outputs": [],
   "source": [
    "def clean_strings(strings, ops):\n",
    "    result=[]\n",
    "    for value in strings:\n",
    "        for function in ops:\n",
    "            value=function(value)\n",
    "        result.append(value)\n",
    "    return result"
   ]
  },
  {
   "cell_type": "code",
   "execution_count": 124,
   "id": "6ad112ee-a75b-4987-ba9b-51573dab4786",
   "metadata": {},
   "outputs": [
    {
     "data": {
      "text/plain": [
       "['Alabama',\n",
       " 'Georgia',\n",
       " 'Georgia',\n",
       " 'Georgia',\n",
       " 'Florida',\n",
       " 'South   Carolina',\n",
       " 'West Virginia']"
      ]
     },
     "execution_count": 124,
     "metadata": {},
     "output_type": "execute_result"
    }
   ],
   "source": [
    "clean_strings(states, clean_ops)"
   ]
  },
  {
   "cell_type": "code",
   "execution_count": 127,
   "id": "31d58c5c-f028-4299-a6e5-6f22b08217bd",
   "metadata": {},
   "outputs": [
    {
     "name": "stdout",
     "output_type": "stream",
     "text": [
      "   Alabama \n",
      "Georgia\n",
      "Georgia\n",
      "georgia\n",
      "FlOrIda\n",
      "south   carolina\n",
      "West virginia\n"
     ]
    }
   ],
   "source": [
    "for i in map(remove_punctuation,states):\n",
    "    print(i)"
   ]
  },
  {
   "cell_type": "markdown",
   "id": "4886bb48-aa86-4e26-9a97-a8817060e3d6",
   "metadata": {},
   "source": [
    "##### 5교시"
   ]
  },
  {
   "cell_type": "code",
   "execution_count": 128,
   "id": "dcbb79dc-5fb7-4ee5-89f1-7771c4ded9d7",
   "metadata": {},
   "outputs": [],
   "source": [
    "def add_numbers(x,y):\n",
    "    return x+y"
   ]
  },
  {
   "cell_type": "code",
   "execution_count": 129,
   "id": "8ecdb09d-b42f-4639-a106-9c4794665dbb",
   "metadata": {},
   "outputs": [],
   "source": [
    "def add_five(x):\n",
    "    return add_numbers(5,x)"
   ]
  },
  {
   "cell_type": "code",
   "execution_count": 130,
   "id": "d1b2bd4d-37f2-414d-8449-06fa37203c7d",
   "metadata": {},
   "outputs": [
    {
     "data": {
      "text/plain": [
       "15"
      ]
     },
     "execution_count": 130,
     "metadata": {},
     "output_type": "execute_result"
    }
   ],
   "source": [
    "add_five(10)"
   ]
  },
  {
   "cell_type": "code",
   "execution_count": 131,
   "id": "92e5ea76-6ffe-4df4-ac6c-dcd526cae934",
   "metadata": {},
   "outputs": [
    {
     "data": {
      "text/plain": [
       "[0, 1, 2, 3, 4, 5, 6, 7, 8, 9]"
      ]
     },
     "execution_count": 131,
     "metadata": {},
     "output_type": "execute_result"
    }
   ],
   "source": [
    "list(range(10))"
   ]
  },
  {
   "cell_type": "code",
   "execution_count": 132,
   "id": "603e0f4c-f4bc-401b-b11e-52f9a8b72eba",
   "metadata": {},
   "outputs": [],
   "source": [
    "di={'a':1,'b':2,'c':3}"
   ]
  },
  {
   "cell_type": "code",
   "execution_count": 133,
   "id": "3dc1033a-d3d9-4074-ba2e-357abe1ce526",
   "metadata": {},
   "outputs": [
    {
     "name": "stdout",
     "output_type": "stream",
     "text": [
      "a\n",
      "b\n",
      "c\n"
     ]
    }
   ],
   "source": [
    "for i in di:\n",
    "    print(i)"
   ]
  },
  {
   "cell_type": "code",
   "execution_count": 135,
   "id": "fa1c3002-265f-436d-85f8-989b00e79504",
   "metadata": {},
   "outputs": [
    {
     "data": {
      "text/plain": [
       "['a', 'b', 'c']"
      ]
     },
     "execution_count": 135,
     "metadata": {},
     "output_type": "execute_result"
    }
   ],
   "source": [
    "it=iter(di)\n",
    "list(it)"
   ]
  },
  {
   "cell_type": "code",
   "execution_count": 155,
   "id": "ea8a7aa1-7991-4eba-bf25-edbf96d7f59a",
   "metadata": {},
   "outputs": [],
   "source": [
    "def squares(n):\n",
    "    for i in range(1,n+1):\n",
    "        yield i"
   ]
  },
  {
   "cell_type": "code",
   "execution_count": 156,
   "id": "4b5c9026-2dfb-4ea2-ae65-b147fc42957a",
   "metadata": {},
   "outputs": [
    {
     "data": {
      "text/plain": [
       "<generator object squares at 0x000001E5805B0580>"
      ]
     },
     "execution_count": 156,
     "metadata": {},
     "output_type": "execute_result"
    }
   ],
   "source": [
    "squares(10)"
   ]
  },
  {
   "cell_type": "code",
   "execution_count": 157,
   "id": "e93a2649-2456-49fb-ba25-b95f20a06295",
   "metadata": {},
   "outputs": [
    {
     "data": {
      "text/plain": [
       "[1, 2, 3, 4, 5, 6, 7, 8, 9, 10]"
      ]
     },
     "execution_count": 157,
     "metadata": {},
     "output_type": "execute_result"
    }
   ],
   "source": [
    "list(squares(10))"
   ]
  },
  {
   "cell_type": "code",
   "execution_count": 158,
   "id": "c127c400-6ddd-44ef-ade3-a4e6bc9756c5",
   "metadata": {},
   "outputs": [],
   "source": [
    "# 0부터 입력된 수까지 연속된 자연수의 제곱을 만들어내는\n",
    "# 제너레이터를 만들어 봅시다.\n",
    "def _make_gen():\n",
    "    for i in range(100):\n",
    "        yield i**2\n",
    "gen=_make_gen()"
   ]
  },
  {
   "cell_type": "code",
   "execution_count": 159,
   "id": "c2624716-6134-494f-af2f-42040812b86e",
   "metadata": {},
   "outputs": [
    {
     "data": {
      "text/plain": [
       "900"
      ]
     },
     "execution_count": 159,
     "metadata": {},
     "output_type": "execute_result"
    }
   ],
   "source": [
    "sum(x**2 for i in range(100))"
   ]
  },
  {
   "cell_type": "code",
   "execution_count": 160,
   "id": "56e4b9b7-2375-442a-8f26-d7f1e817a9d0",
   "metadata": {},
   "outputs": [],
   "source": [
    "import itertools\n",
    "first_letter=lambda i:i[0]"
   ]
  },
  {
   "cell_type": "code",
   "execution_count": 161,
   "id": "b32392c7-d544-4e70-ad57-de62c6b7c5d7",
   "metadata": {},
   "outputs": [],
   "source": [
    "names=['Alan','Adam','Wes','Will','Albert','Steven']"
   ]
  },
  {
   "cell_type": "code",
   "execution_count": 162,
   "id": "6aa823e3-f351-43ad-9e56-deaba48d944e",
   "metadata": {},
   "outputs": [
    {
     "name": "stdout",
     "output_type": "stream",
     "text": [
      "A ['Alan', 'Adam']\n",
      "W ['Wes', 'Will']\n",
      "A ['Albert']\n",
      "S ['Steven']\n"
     ]
    }
   ],
   "source": [
    "for letter,names in itertools.groupby(names,first_letter):\n",
    "    print(letter,list(names))"
   ]
  },
  {
   "cell_type": "markdown",
   "id": "24aa2c3c-c08d-42b6-b3d7-d3a23d615973",
   "metadata": {},
   "source": [
    "##### 6교시"
   ]
  },
  {
   "cell_type": "code",
   "execution_count": 163,
   "id": "54ad52b1-c648-4e09-8cef-9dd9646d7a91",
   "metadata": {},
   "outputs": [
    {
     "data": {
      "text/plain": [
       "array([0, 1, 2, 3])"
      ]
     },
     "execution_count": 163,
     "metadata": {},
     "output_type": "execute_result"
    }
   ],
   "source": [
    "import numpy as np\n",
    "a=np.array([0,1,2,3])\n",
    "a"
   ]
  },
  {
   "cell_type": "code",
   "execution_count": 164,
   "id": "09213dd1-31cb-4845-9f5b-d60bb2d1c8ab",
   "metadata": {},
   "outputs": [
    {
     "data": {
      "text/plain": [
       "numpy.ndarray"
      ]
     },
     "execution_count": 164,
     "metadata": {},
     "output_type": "execute_result"
    }
   ],
   "source": [
    "type(a)"
   ]
  },
  {
   "cell_type": "code",
   "execution_count": 165,
   "id": "d97b361c-c150-4e24-99c2-1915b7504821",
   "metadata": {},
   "outputs": [
    {
     "data": {
      "text/plain": [
       "(4,)"
      ]
     },
     "execution_count": 165,
     "metadata": {},
     "output_type": "execute_result"
    }
   ],
   "source": [
    "a.shape"
   ]
  },
  {
   "cell_type": "code",
   "execution_count": 166,
   "id": "ed8d22b8-d97c-46f1-9050-4e2c074ae6e2",
   "metadata": {},
   "outputs": [
    {
     "data": {
      "text/plain": [
       "1"
      ]
     },
     "execution_count": 166,
     "metadata": {},
     "output_type": "execute_result"
    }
   ],
   "source": [
    "a.ndim"
   ]
  },
  {
   "cell_type": "code",
   "execution_count": 167,
   "id": "6792df58-b622-4800-bdc6-f9e18e2a165c",
   "metadata": {},
   "outputs": [
    {
     "data": {
      "text/plain": [
       "dtype('int32')"
      ]
     },
     "execution_count": 167,
     "metadata": {},
     "output_type": "execute_result"
    }
   ],
   "source": [
    "a.dtype"
   ]
  },
  {
   "cell_type": "code",
   "execution_count": 169,
   "id": "61ddea0d-21ba-4df1-a098-4ab9366b6fff",
   "metadata": {},
   "outputs": [
    {
     "data": {
      "text/plain": [
       "16"
      ]
     },
     "execution_count": 169,
     "metadata": {},
     "output_type": "execute_result"
    }
   ],
   "source": [
    "a.nbytes"
   ]
  },
  {
   "cell_type": "code",
   "execution_count": 172,
   "id": "482bc81c-35b9-4b1e-974b-6789dac35a2c",
   "metadata": {},
   "outputs": [
    {
     "data": {
      "text/plain": [
       "array([0, 1, 2, 3])"
      ]
     },
     "execution_count": 172,
     "metadata": {},
     "output_type": "execute_result"
    }
   ],
   "source": [
    "li=[0,1,2,3.0]\n",
    "a=np.array(li,dtype='int32')\n",
    "a"
   ]
  },
  {
   "cell_type": "code",
   "execution_count": 181,
   "id": "29a341ac-eaa8-4634-8c5d-ac3788be0840",
   "metadata": {},
   "outputs": [
    {
     "name": "stdout",
     "output_type": "stream",
     "text": [
      "[[0 1 2 3]\n",
      " [4 5 6 7]]\n"
     ]
    }
   ],
   "source": [
    "a=np.array([[0,1,2,3],[4,5,6,7]])\n",
    "print(a)"
   ]
  },
  {
   "cell_type": "code",
   "execution_count": 183,
   "id": "ce641f1d-45c9-4c61-b71a-935f49c2ffb1",
   "metadata": {},
   "outputs": [
    {
     "data": {
      "text/plain": [
       "8"
      ]
     },
     "execution_count": 183,
     "metadata": {},
     "output_type": "execute_result"
    }
   ],
   "source": [
    "a.shape\n",
    "a.size"
   ]
  },
  {
   "cell_type": "code",
   "execution_count": 184,
   "id": "aa872bb1-aa5b-4527-ad0c-e900bcbae8d9",
   "metadata": {},
   "outputs": [
    {
     "data": {
      "text/plain": [
       "(10,)"
      ]
     },
     "execution_count": 184,
     "metadata": {},
     "output_type": "execute_result"
    }
   ],
   "source": [
    "a=np.arange(10)\n",
    "a.shape"
   ]
  },
  {
   "cell_type": "code",
   "execution_count": 191,
   "id": "e163c7dc-f63c-44e4-8d6d-1d957419774f",
   "metadata": {},
   "outputs": [
    {
     "data": {
      "text/plain": [
       "array([[0, 1, 2, 3, 4],\n",
       "       [5, 6, 7, 8, 9]])"
      ]
     },
     "execution_count": 191,
     "metadata": {},
     "output_type": "execute_result"
    }
   ],
   "source": [
    "a.reshape((2,5))"
   ]
  },
  {
   "cell_type": "markdown",
   "id": "ef583ec6-1b50-47fc-b7b6-f9cca53c8047",
   "metadata": {},
   "source": [
    "##### 7교시"
   ]
  },
  {
   "cell_type": "code",
   "execution_count": 194,
   "id": "c1d2a7fa-981f-43a8-bbea-a0ef800ca402",
   "metadata": {},
   "outputs": [
    {
     "data": {
      "text/plain": [
       "array([[0, 1, 2, 3, 4],\n",
       "       [5, 6, 7, 8, 9]])"
      ]
     },
     "execution_count": 194,
     "metadata": {},
     "output_type": "execute_result"
    }
   ],
   "source": [
    "a=np.arange(10).reshape(2,5)\n",
    "a"
   ]
  },
  {
   "cell_type": "code",
   "execution_count": 195,
   "id": "3aef8f81-97d2-4c95-9a28-fdc3ae6907bc",
   "metadata": {},
   "outputs": [
    {
     "data": {
      "text/plain": [
       "array([[ 1,  2,  3,  4],\n",
       "       [ 5,  6,  7,  8],\n",
       "       [ 9, 10, 11, 12]])"
      ]
     },
     "execution_count": 195,
     "metadata": {},
     "output_type": "execute_result"
    }
   ],
   "source": [
    "np.arange(1,13).reshape(3,4)"
   ]
  },
  {
   "cell_type": "code",
   "execution_count": 198,
   "id": "2be1860b-d520-42b4-9225-6589d05f1b1f",
   "metadata": {},
   "outputs": [],
   "source": [
    "n=np.array([[[1,2],[3,4]],\n",
    "         [[5,6],[7,8]]])"
   ]
  },
  {
   "cell_type": "code",
   "execution_count": 199,
   "id": "23030c13-54ee-4781-9d7a-90f9a10c5c38",
   "metadata": {},
   "outputs": [
    {
     "data": {
      "text/plain": [
       "(2, 2, 2)"
      ]
     },
     "execution_count": 199,
     "metadata": {},
     "output_type": "execute_result"
    }
   ],
   "source": [
    "n.shape"
   ]
  },
  {
   "cell_type": "code",
   "execution_count": 200,
   "id": "226c832e-a412-4351-8eec-34679e4418e7",
   "metadata": {},
   "outputs": [
    {
     "data": {
      "text/plain": [
       "array([[[1, 2],\n",
       "        [3, 4]],\n",
       "\n",
       "       [[5, 6],\n",
       "        [7, 8]]])"
      ]
     },
     "execution_count": 200,
     "metadata": {},
     "output_type": "execute_result"
    }
   ],
   "source": [
    "np.arange(1,9).reshape((2,2,2))"
   ]
  },
  {
   "cell_type": "code",
   "execution_count": 205,
   "id": "e10baf95-8157-4b1d-8c1c-68ca74ef5374",
   "metadata": {},
   "outputs": [
    {
     "data": {
      "text/plain": [
       "array([[[ 1,  2,  3,  4],\n",
       "        [ 5,  6,  7,  8]],\n",
       "\n",
       "       [[ 9, 10, 11, 12],\n",
       "        [13, 14, 15, 16]],\n",
       "\n",
       "       [[17, 18, 19, 20],\n",
       "        [21, 22, 23, 24]]])"
      ]
     },
     "execution_count": 205,
     "metadata": {},
     "output_type": "execute_result"
    }
   ],
   "source": [
    "np.arange(1,25).reshape(3,2,4)"
   ]
  },
  {
   "cell_type": "code",
   "execution_count": 209,
   "id": "7f76cbe5-d9cf-4d50-8350-7380e29027e2",
   "metadata": {},
   "outputs": [
    {
     "data": {
      "text/plain": [
       "array([[[0],\n",
       "        [1]],\n",
       "\n",
       "       [[2],\n",
       "        [3]],\n",
       "\n",
       "       [[4],\n",
       "        [5]],\n",
       "\n",
       "       [[6],\n",
       "        [7]]])"
      ]
     },
     "execution_count": 209,
     "metadata": {},
     "output_type": "execute_result"
    }
   ],
   "source": [
    "np.arange(8).reshape(4,2,1)"
   ]
  },
  {
   "cell_type": "markdown",
   "id": "202d2c55-0eb5-4476-854e-9c095ca3024c",
   "metadata": {},
   "source": [
    "element-wise/column-wise/row-wise"
   ]
  },
  {
   "cell_type": "code",
   "execution_count": 210,
   "id": "bb2bda1a-ee98-47b3-b019-f4ece2bf5ce0",
   "metadata": {},
   "outputs": [],
   "source": [
    "a=np.array([1,2,3,4])\n",
    "b=np.array([5,6,7,8])"
   ]
  },
  {
   "cell_type": "code",
   "execution_count": 211,
   "id": "fe5514ea-b7d2-467e-be8e-59b2ab6373b1",
   "metadata": {},
   "outputs": [
    {
     "data": {
      "text/plain": [
       "array([ 5, 12, 21, 32])"
      ]
     },
     "execution_count": 211,
     "metadata": {},
     "output_type": "execute_result"
    }
   ],
   "source": [
    "a*b"
   ]
  },
  {
   "cell_type": "code",
   "execution_count": 212,
   "id": "e631678c-ced6-48e2-9120-dafd362d395e",
   "metadata": {},
   "outputs": [],
   "source": [
    "a=np.array([1,2,3,4])\n",
    "c=np.array([5])"
   ]
  },
  {
   "cell_type": "code",
   "execution_count": 213,
   "id": "72f13bdf-571c-47a1-922b-162ba9a04b03",
   "metadata": {},
   "outputs": [
    {
     "data": {
      "text/plain": [
       "array([-4, -3, -2, -1])"
      ]
     },
     "execution_count": 213,
     "metadata": {},
     "output_type": "execute_result"
    }
   ],
   "source": [
    "a-c"
   ]
  },
  {
   "cell_type": "code",
   "execution_count": 216,
   "id": "c5184174-a97c-4974-9e87-a0d815a690ba",
   "metadata": {},
   "outputs": [
    {
     "data": {
      "text/plain": [
       "array([[ 0,  5],\n",
       "       [12, 21]])"
      ]
     },
     "execution_count": 216,
     "metadata": {},
     "output_type": "execute_result"
    }
   ],
   "source": [
    "a=np.arange(4).reshape(2,2)\n",
    "b=np.arange(4,8).reshape(2,2)\n",
    "a*b #array"
   ]
  },
  {
   "cell_type": "code",
   "execution_count": 217,
   "id": "13587fd2-fcf4-4776-879f-f51aab025895",
   "metadata": {},
   "outputs": [
    {
     "data": {
      "text/plain": [
       "array([[ 6,  7],\n",
       "       [26, 31]])"
      ]
     },
     "execution_count": 217,
     "metadata": {},
     "output_type": "execute_result"
    }
   ],
   "source": [
    "a@b #matrix"
   ]
  },
  {
   "cell_type": "code",
   "execution_count": 218,
   "id": "83bc421c-4b4d-4882-8811-9abdff65622d",
   "metadata": {},
   "outputs": [
    {
     "data": {
      "text/plain": [
       "array([[ 6,  7],\n",
       "       [26, 31]])"
      ]
     },
     "execution_count": 218,
     "metadata": {},
     "output_type": "execute_result"
    }
   ],
   "source": [
    "np.dot(a,b)"
   ]
  },
  {
   "cell_type": "code",
   "execution_count": 219,
   "id": "20fbcece-5b0e-4cd3-bab2-cb8fa58330aa",
   "metadata": {},
   "outputs": [
    {
     "data": {
      "text/plain": [
       "array([[ 6,  7],\n",
       "       [26, 31]])"
      ]
     },
     "execution_count": 219,
     "metadata": {},
     "output_type": "execute_result"
    }
   ],
   "source": [
    "a.dot(b)"
   ]
  },
  {
   "cell_type": "code",
   "execution_count": 223,
   "id": "828e7ca4-7707-4176-9560-184f5a9de870",
   "metadata": {},
   "outputs": [
    {
     "data": {
      "text/plain": [
       "array([[5, 6],\n",
       "       [7, 8]])"
      ]
     },
     "execution_count": 223,
     "metadata": {},
     "output_type": "execute_result"
    }
   ],
   "source": [
    "a=np.arange(5,9).reshape(2,2)\n",
    "a"
   ]
  },
  {
   "cell_type": "code",
   "execution_count": 226,
   "id": "df940df1-b6c1-4eb4-9df9-1f795024ebe2",
   "metadata": {},
   "outputs": [
    {
     "data": {
      "text/plain": [
       "array([[[ 0,  1,  2],\n",
       "        [ 3,  4,  5],\n",
       "        [ 6,  7,  8],\n",
       "        [ 9, 10, 11]],\n",
       "\n",
       "       [[12, 13, 14],\n",
       "        [15, 16, 17],\n",
       "        [18, 19, 20],\n",
       "        [21, 22, 23]],\n",
       "\n",
       "       [[24, 25, 26],\n",
       "        [27, 28, 29],\n",
       "        [30, 31, 32],\n",
       "        [33, 34, 35]]])"
      ]
     },
     "execution_count": 226,
     "metadata": {},
     "output_type": "execute_result"
    }
   ],
   "source": [
    "c=np.arange(36).reshape(3,4,3)\n",
    "c"
   ]
  },
  {
   "cell_type": "code",
   "execution_count": 227,
   "id": "f2d633e4-93bd-4255-ab0b-767349b5a420",
   "metadata": {},
   "outputs": [
    {
     "data": {
      "text/plain": [
       "array([[11, 11],\n",
       "       [15, 15]])"
      ]
     },
     "execution_count": 227,
     "metadata": {},
     "output_type": "execute_result"
    }
   ],
   "source": [
    "a=np.arange(5,9).reshape(2,2)\n",
    "b=np.array([[1,1],[1,1]])\n",
    "a.dot(b)"
   ]
  },
  {
   "cell_type": "code",
   "execution_count": null,
   "id": "8c16ad47-8969-4c09-9e35-de5ac06dbfb9",
   "metadata": {},
   "outputs": [],
   "source": []
  }
 ],
 "metadata": {
  "kernelspec": {
   "display_name": "Python 3 (ipykernel)",
   "language": "python",
   "name": "python3"
  },
  "language_info": {
   "codemirror_mode": {
    "name": "ipython",
    "version": 3
   },
   "file_extension": ".py",
   "mimetype": "text/x-python",
   "name": "python",
   "nbconvert_exporter": "python",
   "pygments_lexer": "ipython3",
   "version": "3.10.9"
  }
 },
 "nbformat": 4,
 "nbformat_minor": 5
}

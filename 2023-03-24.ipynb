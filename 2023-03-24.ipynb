{
 "cells": [
  {
   "cell_type": "markdown",
   "id": "9e5137ea-a6da-4b49-a9ea-0f00a74cdc6f",
   "metadata": {
    "tags": []
   },
   "source": [
    "#### 2023-03-24"
   ]
  },
  {
   "cell_type": "markdown",
   "id": "0740b9d3-ebdf-4b52-bac6-e1ce70710395",
   "metadata": {},
   "source": [
    "##### 1교시"
   ]
  },
  {
   "cell_type": "code",
   "execution_count": null,
   "id": "81c634ea-d5b4-4c3e-b935-c850e11815cc",
   "metadata": {
    "tags": []
   },
   "outputs": [],
   "source": [
    "# 9의 약수"
   ]
  },
  {
   "cell_type": "code",
   "execution_count": 12,
   "id": "bfd479a3-7557-42c6-abac-6762e0ca5e92",
   "metadata": {
    "tags": []
   },
   "outputs": [
    {
     "data": {
      "text/plain": [
       "[1, 2, 4, 8]"
      ]
     },
     "execution_count": 12,
     "metadata": {},
     "output_type": "execute_result"
    }
   ],
   "source": [
    "def 약수(number):\n",
    "      li=[]\n",
    "      i = 0\n",
    "      while i < number:\n",
    "            i += 1\n",
    "            if number % i == 0 :\n",
    "                  li.append(i)\n",
    "      return li\n",
    "\n",
    "약수(8)"
   ]
  },
  {
   "cell_type": "code",
   "execution_count": 16,
   "id": "e4a5faa6-22ef-431f-870e-f9623069af75",
   "metadata": {
    "tags": []
   },
   "outputs": [
    {
     "data": {
      "text/plain": [
       "[1, 2, 4, 8]"
      ]
     },
     "execution_count": 16,
     "metadata": {},
     "output_type": "execute_result"
    }
   ],
   "source": [
    "def 약수(number):\n",
    "      li=[]\n",
    "      for i in range(1,number+1):\n",
    "            if number % i == 0 :\n",
    "                  li.append(i)\n",
    "      return li\n",
    "\n",
    "약수(8)"
   ]
  },
  {
   "cell_type": "code",
   "execution_count": null,
   "id": "6dea090a-6906-471d-9cb1-9d283914b8be",
   "metadata": {},
   "outputs": [],
   "source": [
    "# 여자의 점수만 나오게 "
   ]
  },
  {
   "cell_type": "code",
   "execution_count": 23,
   "id": "b77c9c6f-0d16-4680-be69-33fd72a59c69",
   "metadata": {
    "tags": []
   },
   "outputs": [
    {
     "name": "stdout",
     "output_type": "stream",
     "text": [
      "80\n",
      "87\n",
      "90\n"
     ]
    }
   ],
   "source": [
    "data = [[\"영자\", \"옥순\", \"광수\", \"순자\"],\n",
    "[80, 87, 85, 90],\n",
    "[\"여자\",\"여자\",\"남자\",\"여자\"]] \n",
    "\n",
    "\n",
    "for i in range(4):\n",
    "      if data[2][i] == \"여자\":\n",
    "            print(data[1][i])"
   ]
  },
  {
   "cell_type": "code",
   "execution_count": 25,
   "id": "60c3c5d2-1a0c-452b-b0de-6fcfe5cac3d5",
   "metadata": {
    "tags": []
   },
   "outputs": [
    {
     "name": "stdout",
     "output_type": "stream",
     "text": [
      "영자: 80\n",
      "옥순: 87\n",
      "순자: 90\n"
     ]
    }
   ],
   "source": [
    "for i, j, k in zip(data[0],data[1],data[2]):\n",
    "    if k == \"여자\":\n",
    "        print(f\"{i}: {j}\") "
   ]
  },
  {
   "cell_type": "code",
   "execution_count": null,
   "id": "5063da7e-51b1-4093-8d63-3fd93cf76ae1",
   "metadata": {},
   "outputs": [],
   "source": [
    "# 따뜻한 음료만 출력하세요"
   ]
  },
  {
   "cell_type": "code",
   "execution_count": 30,
   "id": "e6a51dcc-31e6-4032-8698-63c84f054cb0",
   "metadata": {
    "tags": []
   },
   "outputs": [
    {
     "data": {
      "text/plain": [
       "['hot americano', 'hot tea', 'hot milk']"
      ]
     },
     "execution_count": 30,
     "metadata": {},
     "output_type": "execute_result"
    }
   ],
   "source": [
    "data='''\n",
    "ice americano\n",
    "hot americano\n",
    "ice tea\n",
    "hot tea\n",
    "ice milk\n",
    "hot milk\n",
    "milk hot\n",
    "''' \n",
    "\n",
    "import re\n",
    "p = re.compile(\".*hot.+\")\n",
    "p.findall(data)"
   ]
  },
  {
   "cell_type": "code",
   "execution_count": null,
   "id": "d6db9f4c-c796-4128-bfcf-4cd61dab12ff",
   "metadata": {},
   "outputs": [],
   "source": [
    "# 최소공배수를 구하세요"
   ]
  },
  {
   "cell_type": "code",
   "execution_count": 63,
   "id": "94e0226e-f959-4212-a40d-b9699e7162aa",
   "metadata": {
    "tags": []
   },
   "outputs": [
    {
     "data": {
      "text/plain": [
       "30"
      ]
     },
     "execution_count": 63,
     "metadata": {},
     "output_type": "execute_result"
    }
   ],
   "source": [
    "def LCM(a,b):\n",
    "      for i in range(max(a,b), a*b + 1):\n",
    "            if max(a,b) % min(a,b) == 0:\n",
    "                  return max(a,b)\n",
    "            else:\n",
    "                  return a*b\n",
    "      \n",
    "LCM(6,5)"
   ]
  },
  {
   "cell_type": "code",
   "execution_count": 62,
   "id": "574ecea0-b1ed-456f-9ceb-300a8591f675",
   "metadata": {
    "tags": []
   },
   "outputs": [
    {
     "data": {
      "text/plain": [
       "28"
      ]
     },
     "execution_count": 62,
     "metadata": {},
     "output_type": "execute_result"
    }
   ],
   "source": [
    "def lcm(a,b):\n",
    "    for i in range(max(a,b), a*b):\n",
    "        if i%a == 0 and i%b == 0:\n",
    "            break\n",
    "    return i+1\n",
    "lcm(4,7) "
   ]
  },
  {
   "cell_type": "code",
   "execution_count": null,
   "id": "2d10a419-a4bf-45b9-9c30-f36b14cf1087",
   "metadata": {
    "tags": []
   },
   "outputs": [],
   "source": [
    "# 내장함수 map"
   ]
  },
  {
   "cell_type": "code",
   "execution_count": 56,
   "id": "45678ef8-6ec6-4aa1-8ca1-46491d811938",
   "metadata": {
    "tags": []
   },
   "outputs": [
    {
     "data": {
      "text/plain": [
       "[2, 4, 6, 8]"
      ]
     },
     "execution_count": 56,
     "metadata": {},
     "output_type": "execute_result"
    }
   ],
   "source": [
    "li = [1,2,3,4]\n",
    "\n",
    "def two_times(a):\n",
    "      return 2*a\n",
    "\n",
    "list(map(two_times, [1,2,3,4]))"
   ]
  },
  {
   "cell_type": "code",
   "execution_count": 58,
   "id": "14f48a80-9579-46ea-a4e3-024e1590138f",
   "metadata": {
    "tags": []
   },
   "outputs": [
    {
     "data": {
      "text/plain": [
       "[1, 2, 3, 4]"
      ]
     },
     "execution_count": 58,
     "metadata": {},
     "output_type": "execute_result"
    }
   ],
   "source": [
    "li = [\"1\",\"2\",\"3\",\"4\"]\n",
    "list(map(int,li))"
   ]
  },
  {
   "cell_type": "code",
   "execution_count": 59,
   "id": "f92a567c-061b-40f0-a76e-43b76796bfc0",
   "metadata": {
    "tags": []
   },
   "outputs": [
    {
     "data": {
      "text/plain": [
       "[5, 12, 21, 32]"
      ]
     },
     "execution_count": 59,
     "metadata": {},
     "output_type": "execute_result"
    }
   ],
   "source": [
    "numbers1 = [1,2,3,4]\n",
    "numbers2 = [5,6,7,8]\n",
    "\n",
    "list(map(lambda x,y: x*y,numbers1,numbers2))"
   ]
  },
  {
   "cell_type": "code",
   "execution_count": 60,
   "id": "bd9ebe5a-eb57-44ce-b513-d2f59f2a8fac",
   "metadata": {
    "tags": []
   },
   "outputs": [
    {
     "data": {
      "text/plain": [
       "['H', 'E', 'L', 'L', 'O']"
      ]
     },
     "execution_count": 60,
     "metadata": {},
     "output_type": "execute_result"
    }
   ],
   "source": [
    "list(map(str.upper,\"Hello\"))"
   ]
  },
  {
   "cell_type": "markdown",
   "id": "7116655e-2473-480a-a41d-f599fee522c8",
   "metadata": {
    "tags": []
   },
   "source": [
    "##### 2교시"
   ]
  },
  {
   "cell_type": "code",
   "execution_count": 65,
   "id": "bd9d0600-09af-45c0-a50e-7665f4d1eb31",
   "metadata": {
    "tags": []
   },
   "outputs": [
    {
     "data": {
      "text/plain": [
       "\u001b[1;31mDocstring:\u001b[0m\n",
       "print(value, ..., sep=' ', end='\\n', file=sys.stdout, flush=False)\n",
       "\n",
       "Prints the values to a stream, or to sys.stdout by default.\n",
       "Optional keyword arguments:\n",
       "file:  a file-like object (stream); defaults to the current sys.stdout.\n",
       "sep:   string inserted between values, default a space.\n",
       "end:   string appended after the last value, default a newline.\n",
       "flush: whether to forcibly flush the stream.\n",
       "\u001b[1;31mType:\u001b[0m      builtin_function_or_method"
      ]
     },
     "metadata": {},
     "output_type": "display_data"
    }
   ],
   "source": [
    "print?"
   ]
  },
  {
   "cell_type": "code",
   "execution_count": 71,
   "id": "98075c04-d6f1-4484-ae42-5a19539ec846",
   "metadata": {
    "tags": []
   },
   "outputs": [
    {
     "data": {
      "text/plain": [
       "5"
      ]
     },
     "execution_count": 71,
     "metadata": {},
     "output_type": "execute_result"
    }
   ],
   "source": [
    "def add(a,b):\n",
    "      \"\"\"\n",
    "      주석달기\n",
    "      \n",
    "      \"\"\"\n",
    "      return a+b\n",
    "add(2,3)"
   ]
  },
  {
   "cell_type": "code",
   "execution_count": 72,
   "id": "dbb273fa-2673-4230-8632-f0f0ef838b66",
   "metadata": {
    "tags": []
   },
   "outputs": [
    {
     "data": {
      "text/plain": [
       "\u001b[1;31mSignature:\u001b[0m \u001b[0madd\u001b[0m\u001b[1;33m(\u001b[0m\u001b[0ma\u001b[0m\u001b[1;33m,\u001b[0m \u001b[0mb\u001b[0m\u001b[1;33m)\u001b[0m\u001b[1;33m\u001b[0m\u001b[1;33m\u001b[0m\u001b[0m\n",
       "\u001b[1;31mSource:\u001b[0m   \n",
       "\u001b[1;32mdef\u001b[0m \u001b[0madd\u001b[0m\u001b[1;33m(\u001b[0m\u001b[0ma\u001b[0m\u001b[1;33m,\u001b[0m\u001b[0mb\u001b[0m\u001b[1;33m)\u001b[0m\u001b[1;33m:\u001b[0m\u001b[1;33m\n",
       "\u001b[0m      \u001b[1;34m\"\"\"\n",
       "      주석달기\n",
       "      \n",
       "      \"\"\"\u001b[0m\u001b[1;33m\n",
       "\u001b[0m      \u001b[1;32mreturn\u001b[0m \u001b[0ma\u001b[0m\u001b[1;33m+\u001b[0m\u001b[0mb\u001b[0m\u001b[1;33m\u001b[0m\u001b[1;33m\u001b[0m\u001b[0m\n",
       "\u001b[1;31mFile:\u001b[0m      c:\\users\\user\\appdata\\local\\temp\\ipykernel_10352\\2200785846.py\n",
       "\u001b[1;31mType:\u001b[0m      function"
      ]
     },
     "metadata": {},
     "output_type": "display_data"
    }
   ],
   "source": [
    "add??"
   ]
  },
  {
   "cell_type": "code",
   "execution_count": 73,
   "id": "98f31356-c610-45d8-9497-1f781060139c",
   "metadata": {},
   "outputs": [
    {
     "data": {
      "text/plain": [
       "\u001b[1;31mSignature:\u001b[0m \u001b[0madd\u001b[0m\u001b[1;33m(\u001b[0m\u001b[0ma\u001b[0m\u001b[1;33m,\u001b[0m \u001b[0mb\u001b[0m\u001b[1;33m)\u001b[0m\u001b[1;33m\u001b[0m\u001b[1;33m\u001b[0m\u001b[0m\n",
       "\u001b[1;31mDocstring:\u001b[0m 주석달기\n",
       "\u001b[1;31mFile:\u001b[0m      c:\\users\\user\\appdata\\local\\temp\\ipykernel_10352\\2200785846.py\n",
       "\u001b[1;31mType:\u001b[0m      function"
      ]
     },
     "metadata": {},
     "output_type": "display_data"
    }
   ],
   "source": [
    "add?"
   ]
  },
  {
   "cell_type": "code",
   "execution_count": 74,
   "id": "9588a55a-95c1-494c-80c9-baa0117720e2",
   "metadata": {
    "tags": []
   },
   "outputs": [],
   "source": [
    "import numpy as np"
   ]
  },
  {
   "cell_type": "code",
   "execution_count": 75,
   "id": "5b69c697-2961-4ced-83ee-ea9849e947de",
   "metadata": {
    "tags": []
   },
   "outputs": [],
   "source": [
    "a = np.random.randn(100, 100)"
   ]
  },
  {
   "cell_type": "code",
   "execution_count": 77,
   "id": "51ff2fc6-db56-4961-853f-1570422a30cd",
   "metadata": {
    "tags": []
   },
   "outputs": [
    {
     "name": "stdout",
     "output_type": "stream",
     "text": [
      "32.9 µs ± 116 ns per loop (mean ± std. dev. of 7 runs, 10,000 loops each)\n"
     ]
    }
   ],
   "source": [
    "%timeit np.dot(a,a) # 쓸 일은 거의 없다"
   ]
  },
  {
   "cell_type": "markdown",
   "id": "36070791-102e-4ba6-9d9e-526e7a1b6338",
   "metadata": {
    "tags": []
   },
   "source": [
    "##### 3교시"
   ]
  },
  {
   "cell_type": "code",
   "execution_count": 80,
   "id": "92b5368c-e1b9-4288-91a9-6265c28be59c",
   "metadata": {
    "tags": []
   },
   "outputs": [],
   "source": [
    "## 아나콘다"
   ]
  },
  {
   "cell_type": "markdown",
   "id": "2342fed6-2415-458f-a9b6-c55da60e7ef3",
   "metadata": {},
   "source": [
    "아나콘다 설치하고 아나콘다 프롬프트에서 jupyter lab을 하면 아나콘다에서 제공하는 주피터랩을 실행시켜줌"
   ]
  },
  {
   "cell_type": "raw",
   "id": "27341169-520c-4ef3-a7d9-62b141aa8b35",
   "metadata": {},
   "source": [
    "아나콘다로 주피터 노트북 실행 방법 3가지"
   ]
  },
  {
   "cell_type": "raw",
   "id": "938bb813-095c-446a-b51d-32363fd4bab5",
   "metadata": {},
   "source": [
    "앞으로 파이썬으로 안하고 아나콘다로 사용\n",
    "-> ?? 오류남"
   ]
  },
  {
   "cell_type": "code",
   "execution_count": 2,
   "id": "c73111cb-13a2-4a7d-9c6f-5f79b932f8a2",
   "metadata": {},
   "outputs": [
    {
     "data": {
      "text/plain": [
       "[<matplotlib.lines.Line2D at 0x1751da07280>]"
      ]
     },
     "execution_count": 2,
     "metadata": {},
     "output_type": "execute_result"
    },
    {
     "data": {
      "image/png": "[encoded data removed]",
      "text/plain": [
       "<Figure size 640x480 with 1 Axes>"
      ]
     },
     "metadata": {},
     "output_type": "display_data"
    }
   ],
   "source": [
    "# 그림 2-6\n",
    "\n",
    "import numpy as np\n",
    "import matplotlib.pyplot as plt\n",
    "\n",
    "plt.plot(np.random.randn(50).cumsum())"
   ]
  },
  {
   "cell_type": "code",
   "execution_count": null,
   "id": "6278a6f1-e479-4d89-acc2-6b559740cbed",
   "metadata": {},
   "outputs": [],
   "source": [
    "#얕은 복사 (참조)"
   ]
  },
  {
   "cell_type": "code",
   "execution_count": 42,
   "id": "fdbe76a4-edcb-4360-980e-fc0baf32df28",
   "metadata": {},
   "outputs": [
    {
     "data": {
      "text/plain": [
       "[1, 2, 3]"
      ]
     },
     "execution_count": 42,
     "metadata": {},
     "output_type": "execute_result"
    }
   ],
   "source": [
    "a = [1,2,3]\n",
    "a"
   ]
  },
  {
   "cell_type": "code",
   "execution_count": 43,
   "id": "219ebd8a-2ff2-4660-98cb-014189877d63",
   "metadata": {},
   "outputs": [
    {
     "data": {
      "text/plain": [
       "[1, 2, 3]"
      ]
     },
     "execution_count": 43,
     "metadata": {},
     "output_type": "execute_result"
    }
   ],
   "source": [
    "b = a\n",
    "b"
   ]
  },
  {
   "cell_type": "code",
   "execution_count": 44,
   "id": "9494b80c-5f32-4c05-9789-8fb253688e18",
   "metadata": {},
   "outputs": [
    {
     "data": {
      "text/plain": [
       "[1, 2]"
      ]
     },
     "execution_count": 44,
     "metadata": {},
     "output_type": "execute_result"
    }
   ],
   "source": [
    "b.remove(3)\n",
    "b"
   ]
  },
  {
   "cell_type": "code",
   "execution_count": 45,
   "id": "5767dbe5-506a-44ca-97fc-d580a339fde4",
   "metadata": {},
   "outputs": [
    {
     "data": {
      "text/plain": [
       "[1, 2]"
      ]
     },
     "execution_count": 45,
     "metadata": {},
     "output_type": "execute_result"
    }
   ],
   "source": [
    "a"
   ]
  },
  {
   "cell_type": "code",
   "execution_count": 46,
   "id": "102d271a-b9f2-4933-b8f5-73e20dd50405",
   "metadata": {},
   "outputs": [
    {
     "data": {
      "text/plain": [
       "[1, 2]"
      ]
     },
     "execution_count": 46,
     "metadata": {},
     "output_type": "execute_result"
    }
   ],
   "source": [
    "b"
   ]
  },
  {
   "cell_type": "code",
   "execution_count": 47,
   "id": "20c430ae-ab26-4be0-9e7e-79905725f4f3",
   "metadata": {},
   "outputs": [
    {
     "data": {
      "text/plain": [
       "1602531669184"
      ]
     },
     "execution_count": 47,
     "metadata": {},
     "output_type": "execute_result"
    }
   ],
   "source": [
    "id(a)"
   ]
  },
  {
   "cell_type": "code",
   "execution_count": 48,
   "id": "4c4fd1e5-6e8d-4761-88aa-ba1403bbbfaa",
   "metadata": {},
   "outputs": [
    {
     "data": {
      "text/plain": [
       "1602531669184"
      ]
     },
     "execution_count": 48,
     "metadata": {},
     "output_type": "execute_result"
    }
   ],
   "source": [
    "id(b)"
   ]
  },
  {
   "cell_type": "markdown",
   "id": "85d9b1b0-01d0-42a1-8904-3dcfb7c58f21",
   "metadata": {},
   "source": [
    "##### 5교시"
   ]
  },
  {
   "cell_type": "raw",
   "id": "abc1a231-7cb0-43df-a478-d9ec9caf25f9",
   "metadata": {},
   "source": [
    "int a = 5;\n",
    "a = 5"
   ]
  },
  {
   "cell_type": "raw",
   "id": "a00b3b75-10f9-46bc-b485-b8841bfb7228",
   "metadata": {},
   "source": [
    "float a = 5.0;\n",
    "a = 5.0"
   ]
  },
  {
   "cell_type": "code",
   "execution_count": 7,
   "id": "1adc6ca0-41c6-4081-b7cb-8496984d9ff9",
   "metadata": {},
   "outputs": [
    {
     "data": {
      "text/plain": [
       "'H'"
      ]
     },
     "execution_count": 7,
     "metadata": {},
     "output_type": "execute_result"
    }
   ],
   "source": [
    "a = \"Hello\"\n",
    "a[0]"
   ]
  },
  {
   "cell_type": "code",
   "execution_count": null,
   "id": "cd76f04b-a692-4455-a949-1e8532e26d85",
   "metadata": {},
   "outputs": [],
   "source": [
    "a[0] =\"h\" # 문자열은 임뮤터블(수정불가능한)"
   ]
  },
  {
   "cell_type": "raw",
   "id": "efbf94a3-fcea-4030-b8da-27437e09eb6b",
   "metadata": {},
   "source": [
    "벡터와 , 스칼라\n",
    "(1, 1) , ( 1 )\n",
    "\n"
   ]
  },
  {
   "cell_type": "code",
   "execution_count": 42,
   "id": "f660f9e9-8c8f-4660-92e2-4ecefc423ffb",
   "metadata": {},
   "outputs": [],
   "source": [
    "# 77p None\n",
    "def test(a, b, c=None):\n",
    "      result = a+b\n",
    "      if c is not None:\n",
    "            result = (a + b)*c\n",
    "      return result"
   ]
  },
  {
   "cell_type": "code",
   "execution_count": 40,
   "id": "960258f6-1375-4c21-aaf0-47e1928f82cc",
   "metadata": {},
   "outputs": [
    {
     "data": {
      "text/plain": [
       "5"
      ]
     },
     "execution_count": 40,
     "metadata": {},
     "output_type": "execute_result"
    }
   ],
   "source": [
    "test(2,3)"
   ]
  },
  {
   "cell_type": "code",
   "execution_count": 41,
   "id": "e6d8535e-1ab1-4177-baf2-44bcadfcbb6c",
   "metadata": {},
   "outputs": [
    {
     "data": {
      "text/plain": [
       "25"
      ]
     },
     "execution_count": 41,
     "metadata": {},
     "output_type": "execute_result"
    }
   ],
   "source": [
    "test(2,3,5)"
   ]
  },
  {
   "cell_type": "code",
   "execution_count": 43,
   "id": "63aa49ac-afd5-4954-b9db-7574138df1e6",
   "metadata": {},
   "outputs": [],
   "source": [
    "def func_p(a, b):\n",
    "      result = a+b\n",
    "      print(result)"
   ]
  },
  {
   "cell_type": "code",
   "execution_count": 44,
   "id": "7e0fb42f-76c1-4136-83ed-4e36cd9ab9c5",
   "metadata": {},
   "outputs": [
    {
     "name": "stdout",
     "output_type": "stream",
     "text": [
      "3\n"
     ]
    }
   ],
   "source": [
    "c = func_p(1,2)"
   ]
  },
  {
   "cell_type": "code",
   "execution_count": 46,
   "id": "22e53ab7-316d-4fc9-9021-478134ac8031",
   "metadata": {},
   "outputs": [
    {
     "name": "stdout",
     "output_type": "stream",
     "text": [
      "None\n"
     ]
    }
   ],
   "source": [
    "print(c)"
   ]
  },
  {
   "cell_type": "code",
   "execution_count": 58,
   "id": "f5e87607-836c-4800-9623-77d1f4cbf1a8",
   "metadata": {},
   "outputs": [
    {
     "data": {
      "text/plain": [
       "NoneType"
      ]
     },
     "execution_count": 58,
     "metadata": {},
     "output_type": "execute_result"
    }
   ],
   "source": [
    "type(c)"
   ]
  },
  {
   "cell_type": "code",
   "execution_count": 59,
   "id": "16de8d63-da77-4865-8b25-11e3056b9ee0",
   "metadata": {},
   "outputs": [
    {
     "data": {
      "text/plain": [
       "1679636275.2699323"
      ]
     },
     "execution_count": 59,
     "metadata": {},
     "output_type": "execute_result"
    }
   ],
   "source": [
    "# 파이썬에서 time 함수\n",
    "import time\n",
    "\n",
    "time.time()"
   ]
  },
  {
   "cell_type": "code",
   "execution_count": 54,
   "id": "894538bc-6d55-4224-8b5a-61bb80b6bdee",
   "metadata": {},
   "outputs": [
    {
     "data": {
      "text/plain": [
       "time.struct_time(tm_year=2023, tm_mon=3, tm_mday=24, tm_hour=14, tm_min=37, tm_sec=13, tm_wday=4, tm_yday=83, tm_isdst=0)"
      ]
     },
     "execution_count": 54,
     "metadata": {},
     "output_type": "execute_result"
    }
   ],
   "source": [
    "time.localtime()"
   ]
  },
  {
   "cell_type": "code",
   "execution_count": 55,
   "id": "0adf7983-cbed-48fb-b63e-b7d5b2cdec60",
   "metadata": {},
   "outputs": [],
   "source": [
    "dt = time.localtime()\n"
   ]
  },
  {
   "cell_type": "code",
   "execution_count": 56,
   "id": "5d73d144-ece2-4bb8-802f-7f59ea9423cb",
   "metadata": {},
   "outputs": [
    {
     "data": {
      "text/plain": [
       "3"
      ]
     },
     "execution_count": 56,
     "metadata": {},
     "output_type": "execute_result"
    }
   ],
   "source": [
    "dt.tm_mon"
   ]
  },
  {
   "cell_type": "code",
   "execution_count": 57,
   "id": "2c0c6359-a39d-43c2-89ef-04e12d3720a2",
   "metadata": {},
   "outputs": [
    {
     "data": {
      "text/plain": [
       "time.struct_time"
      ]
     },
     "execution_count": 57,
     "metadata": {},
     "output_type": "execute_result"
    }
   ],
   "source": [
    "type(dt)"
   ]
  },
  {
   "cell_type": "code",
   "execution_count": 60,
   "id": "d3cfea2e-227a-4b38-a3a6-aef913cf0128",
   "metadata": {},
   "outputs": [],
   "source": [
    "time.sleep(1)"
   ]
  },
  {
   "cell_type": "code",
   "execution_count": 62,
   "id": "66175448-0dfa-4c1b-a007-d5dbac20db1a",
   "metadata": {},
   "outputs": [],
   "source": [
    "# 78p datetime\n",
    "import datetime"
   ]
  },
  {
   "cell_type": "code",
   "execution_count": 63,
   "id": "41c89199-0549-44ac-b27e-d9b1f561442c",
   "metadata": {},
   "outputs": [
    {
     "data": {
      "text/plain": [
       "datetime.datetime(2023, 3, 24, 14, 39, 27, 229842)"
      ]
     },
     "execution_count": 63,
     "metadata": {},
     "output_type": "execute_result"
    }
   ],
   "source": [
    "datetime.datetime.now()"
   ]
  },
  {
   "cell_type": "code",
   "execution_count": null,
   "id": "0f66a2bf-deda-4161-8fcc-7c027de14e4d",
   "metadata": {},
   "outputs": [],
   "source": [
    "dt = datetime.datetime.now()"
   ]
  },
  {
   "cell_type": "code",
   "execution_count": 65,
   "id": "e5e56aee-c570-4dd3-9f9a-a3a434716746",
   "metadata": {},
   "outputs": [],
   "source": [
    "from datetime import datetime, date, time"
   ]
  },
  {
   "cell_type": "code",
   "execution_count": 66,
   "id": "d5389f3f-a5ea-49c8-a25f-984f2acfdb7d",
   "metadata": {},
   "outputs": [
    {
     "data": {
      "text/plain": [
       "datetime.datetime(2023, 3, 24, 14, 40, 53, 132268)"
      ]
     },
     "execution_count": 66,
     "metadata": {},
     "output_type": "execute_result"
    }
   ],
   "source": [
    "dt = datetime.now()\n",
    "dt"
   ]
  },
  {
   "cell_type": "code",
   "execution_count": 67,
   "id": "6ff440fe-f756-439e-b2cd-0b96b92cc246",
   "metadata": {},
   "outputs": [
    {
     "data": {
      "text/plain": [
       "2023"
      ]
     },
     "execution_count": 67,
     "metadata": {},
     "output_type": "execute_result"
    }
   ],
   "source": [
    "dt.year"
   ]
  },
  {
   "cell_type": "code",
   "execution_count": 68,
   "id": "10874aa0-263e-4abf-a987-07e4e1ab5e43",
   "metadata": {},
   "outputs": [
    {
     "data": {
      "text/plain": [
       "14"
      ]
     },
     "execution_count": 68,
     "metadata": {},
     "output_type": "execute_result"
    }
   ],
   "source": [
    "dt.hour"
   ]
  },
  {
   "cell_type": "code",
   "execution_count": 69,
   "id": "de063d20-c2c9-4ab1-a274-fffcc4fdd351",
   "metadata": {},
   "outputs": [
    {
     "data": {
      "text/plain": [
       "datetime.datetime(2023, 3, 24, 14, 41, 48, 996363)"
      ]
     },
     "execution_count": 69,
     "metadata": {},
     "output_type": "execute_result"
    }
   ],
   "source": [
    "today = datetime.now()\n",
    "today"
   ]
  },
  {
   "cell_type": "code",
   "execution_count": 70,
   "id": "1fe51acd-bece-418e-9b51-0bc701be8d5d",
   "metadata": {},
   "outputs": [
    {
     "data": {
      "text/plain": [
       "datetime.date(2023, 3, 24)"
      ]
     },
     "execution_count": 70,
     "metadata": {},
     "output_type": "execute_result"
    }
   ],
   "source": [
    "day = dt.date()\n",
    "day"
   ]
  },
  {
   "cell_type": "code",
   "execution_count": 71,
   "id": "108bcb6d-17ae-446c-882e-d1dcf8fbb466",
   "metadata": {},
   "outputs": [
    {
     "data": {
      "text/plain": [
       "datetime.time(14, 40, 53, 132268)"
      ]
     },
     "execution_count": 71,
     "metadata": {},
     "output_type": "execute_result"
    }
   ],
   "source": [
    "dt.time()"
   ]
  },
  {
   "cell_type": "code",
   "execution_count": 72,
   "id": "058efac7-b473-401d-ace3-94ab29ed3468",
   "metadata": {},
   "outputs": [
    {
     "data": {
      "text/plain": [
       "datetime.datetime(2023, 3, 24, 14, 41, 48, 996363)"
      ]
     },
     "execution_count": 72,
     "metadata": {},
     "output_type": "execute_result"
    }
   ],
   "source": [
    "today"
   ]
  },
  {
   "cell_type": "code",
   "execution_count": 73,
   "id": "1acef2c8-c77a-4b64-b20a-54326636dd78",
   "metadata": {},
   "outputs": [
    {
     "data": {
      "text/plain": [
       "datetime.datetime(2023, 4, 20, 3, 0)"
      ]
     },
     "execution_count": 73,
     "metadata": {},
     "output_type": "execute_result"
    }
   ],
   "source": [
    "dt2 = datetime(2023,4,20,3)\n",
    "dt2"
   ]
  },
  {
   "cell_type": "code",
   "execution_count": 74,
   "id": "0a8f807a-eaf6-4dac-a381-d9c069d2e0cf",
   "metadata": {},
   "outputs": [
    {
     "data": {
      "text/plain": [
       "datetime.timedelta(days=26, seconds=44291, microseconds=3637)"
      ]
     },
     "execution_count": 74,
     "metadata": {},
     "output_type": "execute_result"
    }
   ],
   "source": [
    "dt2 - today"
   ]
  },
  {
   "cell_type": "code",
   "execution_count": null,
   "id": "0931d966-7088-425f-b196-42fd2342cfcf",
   "metadata": {},
   "outputs": [],
   "source": [
    "#크리스마스까지 며칠 남았는가?"
   ]
  },
  {
   "cell_type": "code",
   "execution_count": 75,
   "id": "00731fc1-41d9-4653-9fa5-701578d09a25",
   "metadata": {},
   "outputs": [
    {
     "data": {
      "text/plain": [
       "datetime.datetime(2023, 12, 25, 0, 0)"
      ]
     },
     "execution_count": 75,
     "metadata": {},
     "output_type": "execute_result"
    }
   ],
   "source": [
    "dt3 = datetime(2023,12,25)\n",
    "dt3"
   ]
  },
  {
   "cell_type": "code",
   "execution_count": 76,
   "id": "1ee625eb-bce5-4153-a565-f902caf7a184",
   "metadata": {},
   "outputs": [
    {
     "data": {
      "text/plain": [
       "datetime.timedelta(days=275, seconds=33491, microseconds=3637)"
      ]
     },
     "execution_count": 76,
     "metadata": {},
     "output_type": "execute_result"
    }
   ],
   "source": [
    "dt3 - today"
   ]
  },
  {
   "cell_type": "code",
   "execution_count": 80,
   "id": "7195f660-cb39-44b7-b906-a8f659922816",
   "metadata": {},
   "outputs": [
    {
     "data": {
      "text/plain": [
       "'2023/03/24 14/41/48'"
      ]
     },
     "execution_count": 80,
     "metadata": {},
     "output_type": "execute_result"
    }
   ],
   "source": [
    "today.strftime(\"%Y/%m/%d %H/%M/%S\")"
   ]
  },
  {
   "cell_type": "markdown",
   "id": "77b3f240-120e-49ac-a923-89c0864b7737",
   "metadata": {},
   "source": [
    "##### 6교시"
   ]
  },
  {
   "cell_type": "code",
   "execution_count": 81,
   "id": "a66f3d3f-c09e-421b-8f3d-ec66f93a1e66",
   "metadata": {},
   "outputs": [
    {
     "data": {
      "text/plain": [
       "range(1, 10)"
      ]
     },
     "execution_count": 81,
     "metadata": {},
     "output_type": "execute_result"
    }
   ],
   "source": [
    "# range\n",
    "range(1,10)"
   ]
  },
  {
   "cell_type": "code",
   "execution_count": 82,
   "id": "3ec389ab-80c5-4649-a91b-5433f434d4d1",
   "metadata": {},
   "outputs": [
    {
     "data": {
      "text/plain": [
       "[1, 2, 3, 4, 5, 6, 7, 8, 9]"
      ]
     },
     "execution_count": 82,
     "metadata": {},
     "output_type": "execute_result"
    }
   ],
   "source": [
    "list(range(1,10))\n",
    "# range 라는 기계를 가지고 있는거\n",
    "# 메모리를 많이 차지 않을 수 있게 되었다\n",
    "# a.k.a 이터레이터, 제네러레이터"
   ]
  },
  {
   "cell_type": "code",
   "execution_count": 84,
   "id": "7896cc4e-ff9a-4eaa-a3b7-76c42d29849a",
   "metadata": {},
   "outputs": [
    {
     "name": "stdout",
     "output_type": "stream",
     "text": [
      "0 1 2 3 4 5 6 7 8 9 10 11 12 13 14 15 16 17 18 19 20 21 22 23 24 25 26 27 28 29 30 31 32 33 34 35 36 37 38 39 40 41 42 43 44 45 46 47 48 49 50 51 52 53 54 55 56 57 58 59 60 61 62 63 64 65 66 67 68 69 70 71 72 73 74 75 76 77 78 79 80 81 82 83 84 85 86 87 88 89 90 91 92 93 94 95 96 97 98 99 "
     ]
    }
   ],
   "source": [
    "for i in range(0,100):\n",
    "      print(i, end= \" \")"
   ]
  },
  {
   "cell_type": "code",
   "execution_count": null,
   "id": "c184df8d-ff38-46b7-93d9-953ee1f6be2e",
   "metadata": {},
   "outputs": [],
   "source": [
    "# 삼항표현식\n",
    "\n",
    "ifelse(조건, 참일 때 실행, 거짓일 때 실행)"
   ]
  },
  {
   "cell_type": "code",
   "execution_count": 87,
   "id": "f6a979b5-f37e-451d-8d60-345b7650e80c",
   "metadata": {},
   "outputs": [],
   "source": [
    "x = 2\n",
    "\n",
    "if x > 0:\n",
    "      \"양수\"\n",
    "else:\n",
    "      \"음수\""
   ]
  },
  {
   "cell_type": "code",
   "execution_count": 89,
   "id": "0cae5cc3-9943-48a6-9747-85776219a56c",
   "metadata": {},
   "outputs": [
    {
     "data": {
      "text/plain": [
       "'양수'"
      ]
     },
     "execution_count": 89,
     "metadata": {},
     "output_type": "execute_result"
    }
   ],
   "source": [
    "x = 1\n",
    "\"양수\" if x > 0 else \"음수\""
   ]
  },
  {
   "cell_type": "code",
   "execution_count": null,
   "id": "1b481380-134c-404d-98b5-4d9f54205600",
   "metadata": {},
   "outputs": [],
   "source": [
    "# 87p~"
   ]
  },
  {
   "cell_type": "code",
   "execution_count": 90,
   "id": "000aa828-091c-4636-a3e4-ec2c00698905",
   "metadata": {},
   "outputs": [],
   "source": [
    "tup = 4,5,6"
   ]
  },
  {
   "cell_type": "code",
   "execution_count": 91,
   "id": "8606fe60-b845-4723-bb43-30149d7e4e7e",
   "metadata": {},
   "outputs": [
    {
     "data": {
      "text/plain": [
       "(4, 5, 6)"
      ]
     },
     "execution_count": 91,
     "metadata": {},
     "output_type": "execute_result"
    }
   ],
   "source": [
    "tup"
   ]
  },
  {
   "cell_type": "code",
   "execution_count": 92,
   "id": "f0d4d5f6-8313-42c9-9f4d-6cf8aba75e0b",
   "metadata": {},
   "outputs": [],
   "source": [
    "tup = 4,5,(6,7)"
   ]
  },
  {
   "cell_type": "code",
   "execution_count": 93,
   "id": "4a627b6b-c533-49ab-88ad-fcbf92307f18",
   "metadata": {},
   "outputs": [
    {
     "data": {
      "text/plain": [
       "(4, 5, (6, 7))"
      ]
     },
     "execution_count": 93,
     "metadata": {},
     "output_type": "execute_result"
    }
   ],
   "source": [
    "tup"
   ]
  },
  {
   "cell_type": "code",
   "execution_count": 94,
   "id": "41252e9b-1fa1-49c5-8aaf-2cc0c6eedfb3",
   "metadata": {},
   "outputs": [],
   "source": [
    "a,b,c = tup"
   ]
  },
  {
   "cell_type": "code",
   "execution_count": 96,
   "id": "afce2eaf-1867-4d61-9c73-b9a7cdf6e6b6",
   "metadata": {},
   "outputs": [
    {
     "data": {
      "text/plain": [
       "(6, 7)"
      ]
     },
     "execution_count": 96,
     "metadata": {},
     "output_type": "execute_result"
    }
   ],
   "source": [
    "c"
   ]
  },
  {
   "cell_type": "code",
   "execution_count": 97,
   "id": "cf5006b7-051f-433a-831a-5e88a45c0ccd",
   "metadata": {},
   "outputs": [
    {
     "data": {
      "text/plain": [
       "4"
      ]
     },
     "execution_count": 97,
     "metadata": {},
     "output_type": "execute_result"
    }
   ],
   "source": [
    "a"
   ]
  },
  {
   "cell_type": "code",
   "execution_count": 99,
   "id": "4420a476-8734-481c-98af-200dd396694d",
   "metadata": {},
   "outputs": [
    {
     "data": {
      "text/plain": [
       "(1, 2, 3, 4, 5)"
      ]
     },
     "execution_count": 99,
     "metadata": {},
     "output_type": "execute_result"
    }
   ],
   "source": [
    "values = 1,2,3,4,5\n",
    "values"
   ]
  },
  {
   "cell_type": "code",
   "execution_count": 102,
   "id": "fcd5911d-1423-42b3-98e4-79d4cfb7adfe",
   "metadata": {},
   "outputs": [
    {
     "data": {
      "text/plain": [
       "[3, 4, 5]"
      ]
     },
     "execution_count": 102,
     "metadata": {},
     "output_type": "execute_result"
    }
   ],
   "source": [
    "a,b,*c = values\n",
    "c"
   ]
  },
  {
   "cell_type": "code",
   "execution_count": 103,
   "id": "6f12dd1a-d0ed-48e5-bcdd-e5c0c6684e86",
   "metadata": {},
   "outputs": [
    {
     "data": {
      "text/plain": [
       "['H', 'e', 'l', 'l', 'o']"
      ]
     },
     "execution_count": 103,
     "metadata": {},
     "output_type": "execute_result"
    }
   ],
   "source": [
    "# 98p\n",
    "a = list('Hello')\n",
    "a"
   ]
  },
  {
   "cell_type": "code",
   "execution_count": 106,
   "id": "247bce41-7592-435c-8cae-93732fd373cc",
   "metadata": {},
   "outputs": [
    {
     "data": {
      "text/plain": [
       "['H', 'l', 'o']"
      ]
     },
     "execution_count": 106,
     "metadata": {},
     "output_type": "execute_result"
    }
   ],
   "source": [
    "a[ : : 2]"
   ]
  },
  {
   "cell_type": "code",
   "execution_count": 107,
   "id": "af90f701-8236-44d5-b44e-85644e4cbadb",
   "metadata": {},
   "outputs": [
    {
     "data": {
      "text/plain": [
       "['o', 'l', 'l', 'e', 'H']"
      ]
     },
     "execution_count": 107,
     "metadata": {},
     "output_type": "execute_result"
    }
   ],
   "source": [
    "a[ : : -1]"
   ]
  },
  {
   "cell_type": "code",
   "execution_count": 110,
   "id": "d39239cf-5e25-4006-88a8-3dbd37dfd6b4",
   "metadata": {},
   "outputs": [],
   "source": [
    "li = ['a','b','c','d']"
   ]
  },
  {
   "cell_type": "code",
   "execution_count": 114,
   "id": "c1666e0c-7bbd-4298-8602-0419163b8527",
   "metadata": {},
   "outputs": [],
   "source": [
    "# 98p enumerate"
   ]
  },
  {
   "cell_type": "code",
   "execution_count": 113,
   "id": "bb62f661-f99c-4115-a746-d77f5b4ec6a8",
   "metadata": {},
   "outputs": [
    {
     "name": "stdout",
     "output_type": "stream",
     "text": [
      "0 a\n",
      "1 b\n",
      "2 c\n",
      "3 d\n"
     ]
    }
   ],
   "source": [
    "for i,j in enumerate(li):\n",
    "      print(i,j)"
   ]
  },
  {
   "cell_type": "code",
   "execution_count": 115,
   "id": "96efd3ef-3d7f-4d9d-8072-13cfc8fde221",
   "metadata": {},
   "outputs": [
    {
     "data": {
      "text/plain": [
       "{'a': 1, 'b': 2, 'c': 3, 'd': 4}"
      ]
     },
     "execution_count": 115,
     "metadata": {},
     "output_type": "execute_result"
    }
   ],
   "source": [
    "di = {\"a\":1, \"b\":2, \"c\":3,\"d\":4}\n",
    "di"
   ]
  },
  {
   "cell_type": "code",
   "execution_count": 118,
   "id": "e559a124-fdbc-4301-8ff0-f4ba5a3b87c4",
   "metadata": {},
   "outputs": [
    {
     "name": "stdout",
     "output_type": "stream",
     "text": [
      "a 1\n",
      "b 2\n",
      "c 3\n",
      "d 4\n"
     ]
    },
    {
     "data": {
      "text/plain": [
       "{'a': 1, 'b': 2, 'c': 3, 'd': 4}"
      ]
     },
     "execution_count": 118,
     "metadata": {},
     "output_type": "execute_result"
    }
   ],
   "source": [
    "di = dict()\n",
    "for i,j in enumerate(li):\n",
    "      print(j, i+1)\n",
    "      di[j] = i+1\n",
    "di"
   ]
  },
  {
   "cell_type": "code",
   "execution_count": 119,
   "id": "83a8841c-ed82-4433-ad4f-c38f99ce10cd",
   "metadata": {},
   "outputs": [
    {
     "name": "stdout",
     "output_type": "stream",
     "text": [
      "a 1\n",
      "b 2\n",
      "c 3\n",
      "d 4\n"
     ]
    },
    {
     "data": {
      "text/plain": [
       "{'a': 1, 'b': 2, 'c': 3, 'd': 4}"
      ]
     },
     "execution_count": 119,
     "metadata": {},
     "output_type": "execute_result"
    }
   ],
   "source": [
    "di = dict()\n",
    "for i,j in enumerate(li):\n",
    "      print(j, i+1)\n",
    "      di.update({j:i+1})\n",
    "di"
   ]
  },
  {
   "cell_type": "code",
   "execution_count": 120,
   "id": "27cd9c9c-c972-4de2-9403-159951c2dd71",
   "metadata": {},
   "outputs": [],
   "source": [
    "# 100p\n",
    "pitchers = [(\"Nolan\", 'Ryan'), (\"Roger\",\"Clemens\"),(\"Schilling\",\"Curt\")]"
   ]
  },
  {
   "cell_type": "code",
   "execution_count": 121,
   "id": "931b4216-4b4a-46de-b8c5-2c1939636389",
   "metadata": {},
   "outputs": [
    {
     "data": {
      "text/plain": [
       "[('Nolan', 'Ryan'), ('Roger', 'Clemens'), ('Schilling', 'Curt')]"
      ]
     },
     "execution_count": 121,
     "metadata": {},
     "output_type": "execute_result"
    }
   ],
   "source": [
    "pitchers"
   ]
  },
  {
   "cell_type": "code",
   "execution_count": 122,
   "id": "019d7066-a598-49d1-b04d-cd143afbfb5a",
   "metadata": {},
   "outputs": [
    {
     "data": {
      "text/plain": [
       "<zip at 0x19895207d00>"
      ]
     },
     "execution_count": 122,
     "metadata": {},
     "output_type": "execute_result"
    }
   ],
   "source": [
    "zip(pitchers[0], pitchers[1], pitchers[2])"
   ]
  },
  {
   "cell_type": "code",
   "execution_count": 123,
   "id": "b6000395-ba1f-4c7c-8545-cd2fc2e133bb",
   "metadata": {},
   "outputs": [
    {
     "data": {
      "text/plain": [
       "('Nolan', 'Ryan')"
      ]
     },
     "execution_count": 123,
     "metadata": {},
     "output_type": "execute_result"
    }
   ],
   "source": [
    "pitchers[0]"
   ]
  },
  {
   "cell_type": "code",
   "execution_count": 124,
   "id": "81887795-2ef9-4dc9-9378-3e7cdff56690",
   "metadata": {},
   "outputs": [
    {
     "data": {
      "text/plain": [
       "('Roger', 'Clemens')"
      ]
     },
     "execution_count": 124,
     "metadata": {},
     "output_type": "execute_result"
    }
   ],
   "source": [
    "pitchers[1]"
   ]
  },
  {
   "cell_type": "code",
   "execution_count": 125,
   "id": "579d3f8a-6e62-4b11-9ee5-86cb1ab478e3",
   "metadata": {},
   "outputs": [
    {
     "data": {
      "text/plain": [
       "('Schilling', 'Curt')"
      ]
     },
     "execution_count": 125,
     "metadata": {},
     "output_type": "execute_result"
    }
   ],
   "source": [
    "pitchers[2]"
   ]
  },
  {
   "cell_type": "code",
   "execution_count": 127,
   "id": "97074f2c-7b36-4c2a-825d-8f324b499376",
   "metadata": {},
   "outputs": [
    {
     "name": "stdout",
     "output_type": "stream",
     "text": [
      "('Nolan', 'Roger', 'Schilling')\n",
      "('Ryan', 'Clemens', 'Curt')\n"
     ]
    }
   ],
   "source": [
    "for i in zip(pitchers[0], pitchers[1], pitchers[2]):\n",
    "      print(i)"
   ]
  },
  {
   "cell_type": "code",
   "execution_count": 128,
   "id": "340d933d-446d-4edd-8bc6-8c4da54e29b6",
   "metadata": {},
   "outputs": [
    {
     "name": "stdout",
     "output_type": "stream",
     "text": [
      "('Nolan', 'Roger', 'Schilling')\n",
      "('Ryan', 'Clemens', 'Curt')\n"
     ]
    }
   ],
   "source": [
    "for i in zip(*pitchers):\n",
    "      print(i)"
   ]
  }
 ],
 "metadata": {
  "kernelspec": {
   "display_name": "Python 3 (ipykernel)",
   "language": "python",
   "name": "python3"
  },
  "language_info": {
   "codemirror_mode": {
    "name": "ipython",
    "version": 3
   },
   "file_extension": ".py",
   "mimetype": "text/x-python",
   "name": "python",
   "nbconvert_exporter": "python",
   "pygments_lexer": "ipython3",
   "version": "3.10.9"
  }
 },
 "nbformat": 4,
 "nbformat_minor": 5
}
